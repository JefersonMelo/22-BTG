{
 "cells": [
  {
   "cell_type": "code",
   "execution_count": 4,
   "id": "4d70ec7b",
   "metadata": {},
   "outputs": [],
   "source": [
    "import pandas as pd\n",
    "import numpy as np"
   ]
  },
  {
   "cell_type": "code",
   "execution_count": 6,
   "metadata": {},
   "outputs": [],
   "source": [
    "df = pd.read_excel('data/case.xlsx')"
   ]
  },
  {
   "cell_type": "code",
   "execution_count": 7,
   "metadata": {},
   "outputs": [
    {
     "output_type": "execute_result",
     "data": {
      "text/plain": [
       "      código nota fiscal data nota fiscal                        produto main  \\\n",
       "0               12345678       2021-02-03        MACARRÃO INSTANTÂNEO LEGUMES   \n",
       "1               91011123       2021-02-03        MACARRÃO INSTANTÂNEO LEGUMES   \n",
       "2              169676568       2021-02-03  MACARRÃO INSTANTÂNEO FRUTOS DO MAR   \n",
       "3              248342013       2021-02-03  MACARRÃO INSTANTÂNEO FRUTOS DO MAR   \n",
       "4              327007458       2021-02-03      MACARRÃO INSTANTÂNEO YAKISSOBA   \n",
       "...                  ...              ...                                 ...   \n",
       "1319        103772067633       2021-02-07        MACARRÃO INSTANTÂNEO COSTELA   \n",
       "1320        103850733078       2021-02-07  MACARRÃO INSTANTÂNEO FRUTOS DO MAR   \n",
       "1321        103929398523       2021-02-07      MACARRÃO INSTANTÂNEO YAKISSOBA   \n",
       "1322        104008063968       2021-02-07      MACARRÃO INSTANTÂNEO YAKISSOBA   \n",
       "1323        104086729413       2021-02-07      MACARRÃO INSTANTÂNEO YAKISSOBA   \n",
       "\n",
       "     cashback campanha  preço unitário  qtd. unidades vendidas  faturamento  \\\n",
       "0                  40%            3.59                       1         3.59   \n",
       "1                  40%            3.59                       1         3.59   \n",
       "2                  40%            3.59                       1         3.59   \n",
       "3                  40%            3.59                       1         3.59   \n",
       "4                  40%            2.99                       3         8.97   \n",
       "...                ...             ...                     ...          ...   \n",
       "1319               40%            3.99                       1         3.99   \n",
       "1320               40%            3.99                       1         3.99   \n",
       "1321               40%            3.99                       1         3.99   \n",
       "1322               40%            3.99                       1         3.99   \n",
       "1323               40%            3.99                       1         3.99   \n",
       "\n",
       "      cashback distribuído  comissão parceiro          cidade estado  \\\n",
       "0                    1.436             1.5796           SALTO     SP   \n",
       "1                    1.436             1.5796           SALTO     SP   \n",
       "2                    1.436             1.5796           SALTO     SP   \n",
       "3                    1.436             1.5796           SALTO     SP   \n",
       "4                    1.196             1.3156          LAVRAS     MG   \n",
       "...                    ...                ...             ...    ...   \n",
       "1319                 1.596             1.7556  RIO DE JANEIRO     RJ   \n",
       "1320                 1.596             1.7556  RIO DE JANEIRO     RJ   \n",
       "1321                 1.596             1.7556  RIO DE JANEIRO     RJ   \n",
       "1322                 1.596             1.7556  RIO DE JANEIRO     RJ   \n",
       "1323                 1.596             1.7556  RIO DE JANEIRO     RJ   \n",
       "\n",
       "       tipo store  \n",
       "0     LOJA FÍSICA  \n",
       "1     LOJA FÍSICA  \n",
       "2     LOJA FÍSICA  \n",
       "3     LOJA FÍSICA  \n",
       "4     LOJA FÍSICA  \n",
       "...           ...  \n",
       "1319  LOJA FÍSICA  \n",
       "1320  LOJA FÍSICA  \n",
       "1321  LOJA FÍSICA  \n",
       "1322  LOJA FÍSICA  \n",
       "1323  LOJA FÍSICA  \n",
       "\n",
       "[1324 rows x 12 columns]"
      ],
      "text/html": "<div>\n<style scoped>\n    .dataframe tbody tr th:only-of-type {\n        vertical-align: middle;\n    }\n\n    .dataframe tbody tr th {\n        vertical-align: top;\n    }\n\n    .dataframe thead th {\n        text-align: right;\n    }\n</style>\n<table border=\"1\" class=\"dataframe\">\n  <thead>\n    <tr style=\"text-align: right;\">\n      <th></th>\n      <th>código nota fiscal</th>\n      <th>data nota fiscal</th>\n      <th>produto main</th>\n      <th>cashback campanha</th>\n      <th>preço unitário</th>\n      <th>qtd. unidades vendidas</th>\n      <th>faturamento</th>\n      <th>cashback distribuído</th>\n      <th>comissão parceiro</th>\n      <th>cidade</th>\n      <th>estado</th>\n      <th>tipo store</th>\n    </tr>\n  </thead>\n  <tbody>\n    <tr>\n      <th>0</th>\n      <td>12345678</td>\n      <td>2021-02-03</td>\n      <td>MACARRÃO INSTANTÂNEO LEGUMES</td>\n      <td>40%</td>\n      <td>3.59</td>\n      <td>1</td>\n      <td>3.59</td>\n      <td>1.436</td>\n      <td>1.5796</td>\n      <td>SALTO</td>\n      <td>SP</td>\n      <td>LOJA FÍSICA</td>\n    </tr>\n    <tr>\n      <th>1</th>\n      <td>91011123</td>\n      <td>2021-02-03</td>\n      <td>MACARRÃO INSTANTÂNEO LEGUMES</td>\n      <td>40%</td>\n      <td>3.59</td>\n      <td>1</td>\n      <td>3.59</td>\n      <td>1.436</td>\n      <td>1.5796</td>\n      <td>SALTO</td>\n      <td>SP</td>\n      <td>LOJA FÍSICA</td>\n    </tr>\n    <tr>\n      <th>2</th>\n      <td>169676568</td>\n      <td>2021-02-03</td>\n      <td>MACARRÃO INSTANTÂNEO FRUTOS DO MAR</td>\n      <td>40%</td>\n      <td>3.59</td>\n      <td>1</td>\n      <td>3.59</td>\n      <td>1.436</td>\n      <td>1.5796</td>\n      <td>SALTO</td>\n      <td>SP</td>\n      <td>LOJA FÍSICA</td>\n    </tr>\n    <tr>\n      <th>3</th>\n      <td>248342013</td>\n      <td>2021-02-03</td>\n      <td>MACARRÃO INSTANTÂNEO FRUTOS DO MAR</td>\n      <td>40%</td>\n      <td>3.59</td>\n      <td>1</td>\n      <td>3.59</td>\n      <td>1.436</td>\n      <td>1.5796</td>\n      <td>SALTO</td>\n      <td>SP</td>\n      <td>LOJA FÍSICA</td>\n    </tr>\n    <tr>\n      <th>4</th>\n      <td>327007458</td>\n      <td>2021-02-03</td>\n      <td>MACARRÃO INSTANTÂNEO YAKISSOBA</td>\n      <td>40%</td>\n      <td>2.99</td>\n      <td>3</td>\n      <td>8.97</td>\n      <td>1.196</td>\n      <td>1.3156</td>\n      <td>LAVRAS</td>\n      <td>MG</td>\n      <td>LOJA FÍSICA</td>\n    </tr>\n    <tr>\n      <th>...</th>\n      <td>...</td>\n      <td>...</td>\n      <td>...</td>\n      <td>...</td>\n      <td>...</td>\n      <td>...</td>\n      <td>...</td>\n      <td>...</td>\n      <td>...</td>\n      <td>...</td>\n      <td>...</td>\n      <td>...</td>\n    </tr>\n    <tr>\n      <th>1319</th>\n      <td>103772067633</td>\n      <td>2021-02-07</td>\n      <td>MACARRÃO INSTANTÂNEO COSTELA</td>\n      <td>40%</td>\n      <td>3.99</td>\n      <td>1</td>\n      <td>3.99</td>\n      <td>1.596</td>\n      <td>1.7556</td>\n      <td>RIO DE JANEIRO</td>\n      <td>RJ</td>\n      <td>LOJA FÍSICA</td>\n    </tr>\n    <tr>\n      <th>1320</th>\n      <td>103850733078</td>\n      <td>2021-02-07</td>\n      <td>MACARRÃO INSTANTÂNEO FRUTOS DO MAR</td>\n      <td>40%</td>\n      <td>3.99</td>\n      <td>1</td>\n      <td>3.99</td>\n      <td>1.596</td>\n      <td>1.7556</td>\n      <td>RIO DE JANEIRO</td>\n      <td>RJ</td>\n      <td>LOJA FÍSICA</td>\n    </tr>\n    <tr>\n      <th>1321</th>\n      <td>103929398523</td>\n      <td>2021-02-07</td>\n      <td>MACARRÃO INSTANTÂNEO YAKISSOBA</td>\n      <td>40%</td>\n      <td>3.99</td>\n      <td>1</td>\n      <td>3.99</td>\n      <td>1.596</td>\n      <td>1.7556</td>\n      <td>RIO DE JANEIRO</td>\n      <td>RJ</td>\n      <td>LOJA FÍSICA</td>\n    </tr>\n    <tr>\n      <th>1322</th>\n      <td>104008063968</td>\n      <td>2021-02-07</td>\n      <td>MACARRÃO INSTANTÂNEO YAKISSOBA</td>\n      <td>40%</td>\n      <td>3.99</td>\n      <td>1</td>\n      <td>3.99</td>\n      <td>1.596</td>\n      <td>1.7556</td>\n      <td>RIO DE JANEIRO</td>\n      <td>RJ</td>\n      <td>LOJA FÍSICA</td>\n    </tr>\n    <tr>\n      <th>1323</th>\n      <td>104086729413</td>\n      <td>2021-02-07</td>\n      <td>MACARRÃO INSTANTÂNEO YAKISSOBA</td>\n      <td>40%</td>\n      <td>3.99</td>\n      <td>1</td>\n      <td>3.99</td>\n      <td>1.596</td>\n      <td>1.7556</td>\n      <td>RIO DE JANEIRO</td>\n      <td>RJ</td>\n      <td>LOJA FÍSICA</td>\n    </tr>\n  </tbody>\n</table>\n<p>1324 rows × 12 columns</p>\n</div>"
     },
     "metadata": {},
     "execution_count": 7
    }
   ],
   "source": [
    "df"
   ]
  }
 ],
 "metadata": {
  "interpreter": {
   "hash": "04e4950520d2243eee94217051d101de697e1f5607781cfba42a143668f2fc67"
  },
  "kernelspec": {
   "name": "python3",
   "display_name": "Python 3.9.6 64-bit"
  },
  "language_info": {
   "codemirror_mode": {
    "name": "ipython",
    "version": 3
   },
   "file_extension": ".py",
   "mimetype": "text/x-python",
   "name": "python",
   "nbconvert_exporter": "python",
   "pygments_lexer": "ipython3",
   "version": "3.9.6"
  }
 },
 "nbformat": 4,
 "nbformat_minor": 5
}