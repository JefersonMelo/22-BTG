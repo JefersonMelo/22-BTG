{
 "cells": [
  {
   "cell_type": "code",
   "execution_count": 292,
   "metadata": {},
   "outputs": [],
   "source": [
    "person = {\n",
    "    \"first\": \"Jef\",\n",
    "    \"last\": \"Jon\",\n",
    "    \"email\": \"jefjon@com.com\"\n",
    "}"
   ]
  },
  {
   "cell_type": "code",
   "execution_count": 293,
   "metadata": {},
   "outputs": [],
   "source": [
    "people = {\n",
    "    \"first\": [\"Jef\"],\n",
    "    \"last\": [\"Jon\"],\n",
    "    \"email\": [\"jefjon@com.com\"]\n",
    "}"
   ]
  },
  {
   "cell_type": "code",
   "execution_count": 294,
   "metadata": {},
   "outputs": [],
   "source": [
    "people = {\n",
    "    \"first\": [\"Jef\", \"Jon\", \"Car\"],\n",
    "    \"last\": [\"Jon\", \"Car\", \"Jef\"],\n",
    "    \"email\": [\"jef@com.com\", \"jon@com.com\", \"car@com.com\"]\n",
    "}"
   ]
  },
  {
   "cell_type": "code",
   "execution_count": 295,
   "metadata": {},
   "outputs": [
    {
     "output_type": "execute_result",
     "data": {
      "text/plain": [
       "['jef@com.com', 'jon@com.com', 'car@com.com']"
      ]
     },
     "metadata": {},
     "execution_count": 295
    }
   ],
   "source": [
    "people[\"email\"]"
   ]
  },
  {
   "cell_type": "code",
   "execution_count": 296,
   "metadata": {},
   "outputs": [
    {
     "output_type": "execute_result",
     "data": {
      "text/plain": [
       "'Jef'"
      ]
     },
     "metadata": {},
     "execution_count": 296
    }
   ],
   "source": [
    "person[\"first\"]"
   ]
  },
  {
   "cell_type": "code",
   "execution_count": 297,
   "metadata": {},
   "outputs": [],
   "source": [
    "import pandas as pd"
   ]
  },
  {
   "cell_type": "code",
   "execution_count": 298,
   "metadata": {},
   "outputs": [],
   "source": [
    "df = pd.DataFrame(people)"
   ]
  },
  {
   "cell_type": "code",
   "execution_count": 299,
   "metadata": {},
   "outputs": [
    {
     "output_type": "execute_result",
     "data": {
      "text/plain": [
       "  first last        email\n",
       "0   Jef  Jon  jef@com.com\n",
       "1   Jon  Car  jon@com.com\n",
       "2   Car  Jef  car@com.com"
      ],
      "text/html": "<div>\n<style scoped>\n    .dataframe tbody tr th:only-of-type {\n        vertical-align: middle;\n    }\n\n    .dataframe tbody tr th {\n        vertical-align: top;\n    }\n\n    .dataframe thead th {\n        text-align: right;\n    }\n</style>\n<table border=\"1\" class=\"dataframe\">\n  <thead>\n    <tr style=\"text-align: right;\">\n      <th></th>\n      <th>first</th>\n      <th>last</th>\n      <th>email</th>\n    </tr>\n  </thead>\n  <tbody>\n    <tr>\n      <th>0</th>\n      <td>Jef</td>\n      <td>Jon</td>\n      <td>jef@com.com</td>\n    </tr>\n    <tr>\n      <th>1</th>\n      <td>Jon</td>\n      <td>Car</td>\n      <td>jon@com.com</td>\n    </tr>\n    <tr>\n      <th>2</th>\n      <td>Car</td>\n      <td>Jef</td>\n      <td>car@com.com</td>\n    </tr>\n  </tbody>\n</table>\n</div>"
     },
     "metadata": {},
     "execution_count": 299
    }
   ],
   "source": [
    "df"
   ]
  },
  {
   "cell_type": "code",
   "execution_count": 300,
   "metadata": {},
   "outputs": [
    {
     "output_type": "execute_result",
     "data": {
      "text/plain": [
       "0    jef@com.com\n",
       "1    jon@com.com\n",
       "2    car@com.com\n",
       "Name: email, dtype: object"
      ]
     },
     "metadata": {},
     "execution_count": 300
    }
   ],
   "source": [
    "df['email']"
   ]
  },
  {
   "cell_type": "code",
   "execution_count": 301,
   "metadata": {},
   "outputs": [
    {
     "output_type": "execute_result",
     "data": {
      "text/plain": [
       "pandas.core.series.Series"
      ]
     },
     "metadata": {},
     "execution_count": 301
    }
   ],
   "source": [
    "type(df['email'])"
   ]
  },
  {
   "cell_type": "code",
   "execution_count": 302,
   "metadata": {},
   "outputs": [
    {
     "output_type": "execute_result",
     "data": {
      "text/plain": [
       "0    jef@com.com\n",
       "1    jon@com.com\n",
       "2    car@com.com\n",
       "Name: email, dtype: object"
      ]
     },
     "metadata": {},
     "execution_count": 302
    }
   ],
   "source": [
    "df.email"
   ]
  },
  {
   "cell_type": "code",
   "execution_count": 303,
   "metadata": {},
   "outputs": [
    {
     "output_type": "execute_result",
     "data": {
      "text/plain": [
       "<bound method DataFrame.count of   first last        email\n",
       "0   Jef  Jon  jef@com.com\n",
       "1   Jon  Car  jon@com.com\n",
       "2   Car  Jef  car@com.com>"
      ]
     },
     "metadata": {},
     "execution_count": 303
    }
   ],
   "source": [
    "df.count"
   ]
  },
  {
   "cell_type": "code",
   "execution_count": 304,
   "metadata": {},
   "outputs": [
    {
     "output_type": "execute_result",
     "data": {
      "text/plain": [
       "  last        email\n",
       "0  Jon  jef@com.com\n",
       "1  Car  jon@com.com\n",
       "2  Jef  car@com.com"
      ],
      "text/html": "<div>\n<style scoped>\n    .dataframe tbody tr th:only-of-type {\n        vertical-align: middle;\n    }\n\n    .dataframe tbody tr th {\n        vertical-align: top;\n    }\n\n    .dataframe thead th {\n        text-align: right;\n    }\n</style>\n<table border=\"1\" class=\"dataframe\">\n  <thead>\n    <tr style=\"text-align: right;\">\n      <th></th>\n      <th>last</th>\n      <th>email</th>\n    </tr>\n  </thead>\n  <tbody>\n    <tr>\n      <th>0</th>\n      <td>Jon</td>\n      <td>jef@com.com</td>\n    </tr>\n    <tr>\n      <th>1</th>\n      <td>Car</td>\n      <td>jon@com.com</td>\n    </tr>\n    <tr>\n      <th>2</th>\n      <td>Jef</td>\n      <td>car@com.com</td>\n    </tr>\n  </tbody>\n</table>\n</div>"
     },
     "metadata": {},
     "execution_count": 304
    }
   ],
   "source": [
    "df[['last', 'email']]"
   ]
  },
  {
   "cell_type": "code",
   "execution_count": 305,
   "metadata": {},
   "outputs": [
    {
     "output_type": "execute_result",
     "data": {
      "text/plain": [
       "Index(['first', 'last', 'email'], dtype='object')"
      ]
     },
     "metadata": {},
     "execution_count": 305
    }
   ],
   "source": [
    "df.columns"
   ]
  },
  {
   "cell_type": "code",
   "execution_count": 306,
   "metadata": {},
   "outputs": [
    {
     "output_type": "execute_result",
     "data": {
      "text/plain": [
       "  first last        email\n",
       "0   Jef  Jon  jef@com.com"
      ],
      "text/html": "<div>\n<style scoped>\n    .dataframe tbody tr th:only-of-type {\n        vertical-align: middle;\n    }\n\n    .dataframe tbody tr th {\n        vertical-align: top;\n    }\n\n    .dataframe thead th {\n        text-align: right;\n    }\n</style>\n<table border=\"1\" class=\"dataframe\">\n  <thead>\n    <tr style=\"text-align: right;\">\n      <th></th>\n      <th>first</th>\n      <th>last</th>\n      <th>email</th>\n    </tr>\n  </thead>\n  <tbody>\n    <tr>\n      <th>0</th>\n      <td>Jef</td>\n      <td>Jon</td>\n      <td>jef@com.com</td>\n    </tr>\n  </tbody>\n</table>\n</div>"
     },
     "metadata": {},
     "execution_count": 306
    }
   ],
   "source": [
    "df.iloc[[0]]"
   ]
  },
  {
   "cell_type": "code",
   "execution_count": 307,
   "metadata": {},
   "outputs": [
    {
     "output_type": "execute_result",
     "data": {
      "text/plain": [
       "  first last        email\n",
       "0   Jef  Jon  jef@com.com\n",
       "1   Jon  Car  jon@com.com"
      ],
      "text/html": "<div>\n<style scoped>\n    .dataframe tbody tr th:only-of-type {\n        vertical-align: middle;\n    }\n\n    .dataframe tbody tr th {\n        vertical-align: top;\n    }\n\n    .dataframe thead th {\n        text-align: right;\n    }\n</style>\n<table border=\"1\" class=\"dataframe\">\n  <thead>\n    <tr style=\"text-align: right;\">\n      <th></th>\n      <th>first</th>\n      <th>last</th>\n      <th>email</th>\n    </tr>\n  </thead>\n  <tbody>\n    <tr>\n      <th>0</th>\n      <td>Jef</td>\n      <td>Jon</td>\n      <td>jef@com.com</td>\n    </tr>\n    <tr>\n      <th>1</th>\n      <td>Jon</td>\n      <td>Car</td>\n      <td>jon@com.com</td>\n    </tr>\n  </tbody>\n</table>\n</div>"
     },
     "metadata": {},
     "execution_count": 307
    }
   ],
   "source": [
    "df.iloc[[0, 1]]"
   ]
  },
  {
   "cell_type": "code",
   "execution_count": 308,
   "metadata": {},
   "outputs": [
    {
     "output_type": "execute_result",
     "data": {
      "text/plain": [
       "0    jef@com.com\n",
       "1    jon@com.com\n",
       "Name: email, dtype: object"
      ]
     },
     "metadata": {},
     "execution_count": 308
    }
   ],
   "source": [
    "df.loc[[0, 1], 'email']"
   ]
  },
  {
   "cell_type": "code",
   "execution_count": 309,
   "metadata": {},
   "outputs": [
    {
     "output_type": "execute_result",
     "data": {
      "text/plain": [
       "         email last\n",
       "0  jef@com.com  Jon\n",
       "1  jon@com.com  Car"
      ],
      "text/html": "<div>\n<style scoped>\n    .dataframe tbody tr th:only-of-type {\n        vertical-align: middle;\n    }\n\n    .dataframe tbody tr th {\n        vertical-align: top;\n    }\n\n    .dataframe thead th {\n        text-align: right;\n    }\n</style>\n<table border=\"1\" class=\"dataframe\">\n  <thead>\n    <tr style=\"text-align: right;\">\n      <th></th>\n      <th>email</th>\n      <th>last</th>\n    </tr>\n  </thead>\n  <tbody>\n    <tr>\n      <th>0</th>\n      <td>jef@com.com</td>\n      <td>Jon</td>\n    </tr>\n    <tr>\n      <th>1</th>\n      <td>jon@com.com</td>\n      <td>Car</td>\n    </tr>\n  </tbody>\n</table>\n</div>"
     },
     "metadata": {},
     "execution_count": 309
    }
   ],
   "source": [
    "df.loc[[0, 1], ['email', 'last']]"
   ]
  },
  {
   "cell_type": "code",
   "execution_count": 310,
   "metadata": {},
   "outputs": [
    {
     "output_type": "execute_result",
     "data": {
      "text/plain": [
       "RangeIndex(start=0, stop=3, step=1)"
      ]
     },
     "metadata": {},
     "execution_count": 310
    }
   ],
   "source": [
    "df.index"
   ]
  },
  {
   "cell_type": "code",
   "execution_count": 311,
   "metadata": {},
   "outputs": [],
   "source": [
    "df.set_index('email', inplace=True)"
   ]
  },
  {
   "cell_type": "code",
   "execution_count": 312,
   "metadata": {},
   "outputs": [
    {
     "output_type": "execute_result",
     "data": {
      "text/plain": [
       "            first last\n",
       "email                 \n",
       "jef@com.com   Jef  Jon\n",
       "jon@com.com   Jon  Car\n",
       "car@com.com   Car  Jef"
      ],
      "text/html": "<div>\n<style scoped>\n    .dataframe tbody tr th:only-of-type {\n        vertical-align: middle;\n    }\n\n    .dataframe tbody tr th {\n        vertical-align: top;\n    }\n\n    .dataframe thead th {\n        text-align: right;\n    }\n</style>\n<table border=\"1\" class=\"dataframe\">\n  <thead>\n    <tr style=\"text-align: right;\">\n      <th></th>\n      <th>first</th>\n      <th>last</th>\n    </tr>\n    <tr>\n      <th>email</th>\n      <th></th>\n      <th></th>\n    </tr>\n  </thead>\n  <tbody>\n    <tr>\n      <th>jef@com.com</th>\n      <td>Jef</td>\n      <td>Jon</td>\n    </tr>\n    <tr>\n      <th>jon@com.com</th>\n      <td>Jon</td>\n      <td>Car</td>\n    </tr>\n    <tr>\n      <th>car@com.com</th>\n      <td>Car</td>\n      <td>Jef</td>\n    </tr>\n  </tbody>\n</table>\n</div>"
     },
     "metadata": {},
     "execution_count": 312
    }
   ],
   "source": [
    "df"
   ]
  },
  {
   "cell_type": "code",
   "execution_count": 313,
   "metadata": {},
   "outputs": [
    {
     "output_type": "execute_result",
     "data": {
      "text/plain": [
       "Index(['jef@com.com', 'jon@com.com', 'car@com.com'], dtype='object', name='email')"
      ]
     },
     "metadata": {},
     "execution_count": 313
    }
   ],
   "source": [
    "df.index"
   ]
  },
  {
   "cell_type": "code",
   "execution_count": 314,
   "metadata": {},
   "outputs": [
    {
     "output_type": "execute_result",
     "data": {
      "text/plain": [
       "first    Jef\n",
       "last     Jon\n",
       "Name: jef@com.com, dtype: object"
      ]
     },
     "metadata": {},
     "execution_count": 314
    }
   ],
   "source": [
    "df.iloc[0]"
   ]
  },
  {
   "cell_type": "code",
   "execution_count": 315,
   "metadata": {},
   "outputs": [],
   "source": [
    "df.reset_index(inplace=True)"
   ]
  },
  {
   "cell_type": "code",
   "execution_count": 316,
   "metadata": {},
   "outputs": [
    {
     "output_type": "execute_result",
     "data": {
      "text/plain": [
       "         email first last\n",
       "0  jef@com.com   Jef  Jon\n",
       "1  jon@com.com   Jon  Car\n",
       "2  car@com.com   Car  Jef"
      ],
      "text/html": "<div>\n<style scoped>\n    .dataframe tbody tr th:only-of-type {\n        vertical-align: middle;\n    }\n\n    .dataframe tbody tr th {\n        vertical-align: top;\n    }\n\n    .dataframe thead th {\n        text-align: right;\n    }\n</style>\n<table border=\"1\" class=\"dataframe\">\n  <thead>\n    <tr style=\"text-align: right;\">\n      <th></th>\n      <th>email</th>\n      <th>first</th>\n      <th>last</th>\n    </tr>\n  </thead>\n  <tbody>\n    <tr>\n      <th>0</th>\n      <td>jef@com.com</td>\n      <td>Jef</td>\n      <td>Jon</td>\n    </tr>\n    <tr>\n      <th>1</th>\n      <td>jon@com.com</td>\n      <td>Jon</td>\n      <td>Car</td>\n    </tr>\n    <tr>\n      <th>2</th>\n      <td>car@com.com</td>\n      <td>Car</td>\n      <td>Jef</td>\n    </tr>\n  </tbody>\n</table>\n</div>"
     },
     "metadata": {},
     "execution_count": 316
    }
   ],
   "source": [
    "df"
   ]
  },
  {
   "cell_type": "code",
   "execution_count": 317,
   "metadata": {},
   "outputs": [],
   "source": [
    "filt = (df['last'] == 'Car')"
   ]
  },
  {
   "cell_type": "code",
   "execution_count": 318,
   "metadata": {},
   "outputs": [
    {
     "output_type": "execute_result",
     "data": {
      "text/plain": [
       "         email first last\n",
       "1  jon@com.com   Jon  Car"
      ],
      "text/html": "<div>\n<style scoped>\n    .dataframe tbody tr th:only-of-type {\n        vertical-align: middle;\n    }\n\n    .dataframe tbody tr th {\n        vertical-align: top;\n    }\n\n    .dataframe thead th {\n        text-align: right;\n    }\n</style>\n<table border=\"1\" class=\"dataframe\">\n  <thead>\n    <tr style=\"text-align: right;\">\n      <th></th>\n      <th>email</th>\n      <th>first</th>\n      <th>last</th>\n    </tr>\n  </thead>\n  <tbody>\n    <tr>\n      <th>1</th>\n      <td>jon@com.com</td>\n      <td>Jon</td>\n      <td>Car</td>\n    </tr>\n  </tbody>\n</table>\n</div>"
     },
     "metadata": {},
     "execution_count": 318
    }
   ],
   "source": [
    "df[filt]"
   ]
  },
  {
   "cell_type": "code",
   "execution_count": 319,
   "metadata": {},
   "outputs": [],
   "source": [
    "df = pd.DataFrame(people)"
   ]
  },
  {
   "cell_type": "code",
   "execution_count": 320,
   "metadata": {},
   "outputs": [
    {
     "output_type": "execute_result",
     "data": {
      "text/plain": [
       "Index(['first', 'last', 'email'], dtype='object')"
      ]
     },
     "metadata": {},
     "execution_count": 320
    }
   ],
   "source": [
    "df.columns"
   ]
  },
  {
   "cell_type": "code",
   "execution_count": 321,
   "metadata": {},
   "outputs": [],
   "source": [
    "df.columns = ['first_name', 'last_name', 'email']"
   ]
  },
  {
   "cell_type": "code",
   "execution_count": 322,
   "metadata": {},
   "outputs": [
    {
     "output_type": "execute_result",
     "data": {
      "text/plain": [
       "Index(['first_name', 'last_name', 'email'], dtype='object')"
      ]
     },
     "metadata": {},
     "execution_count": 322
    }
   ],
   "source": [
    "df.columns"
   ]
  },
  {
   "cell_type": "code",
   "execution_count": 323,
   "metadata": {},
   "outputs": [
    {
     "output_type": "execute_result",
     "data": {
      "text/plain": [
       "  FIRST_NAME LAST_NAME        EMAIL\n",
       "0        Jef       Jon  jef@com.com\n",
       "1        Jon       Car  jon@com.com\n",
       "2        Car       Jef  car@com.com"
      ],
      "text/html": "<div>\n<style scoped>\n    .dataframe tbody tr th:only-of-type {\n        vertical-align: middle;\n    }\n\n    .dataframe tbody tr th {\n        vertical-align: top;\n    }\n\n    .dataframe thead th {\n        text-align: right;\n    }\n</style>\n<table border=\"1\" class=\"dataframe\">\n  <thead>\n    <tr style=\"text-align: right;\">\n      <th></th>\n      <th>FIRST_NAME</th>\n      <th>LAST_NAME</th>\n      <th>EMAIL</th>\n    </tr>\n  </thead>\n  <tbody>\n    <tr>\n      <th>0</th>\n      <td>Jef</td>\n      <td>Jon</td>\n      <td>jef@com.com</td>\n    </tr>\n    <tr>\n      <th>1</th>\n      <td>Jon</td>\n      <td>Car</td>\n      <td>jon@com.com</td>\n    </tr>\n    <tr>\n      <th>2</th>\n      <td>Car</td>\n      <td>Jef</td>\n      <td>car@com.com</td>\n    </tr>\n  </tbody>\n</table>\n</div>"
     },
     "metadata": {},
     "execution_count": 323
    }
   ],
   "source": [
    "df.columns = [up.upper() for up in df.columns]\n",
    "df"
   ]
  },
  {
   "cell_type": "code",
   "execution_count": 324,
   "metadata": {},
   "outputs": [
    {
     "output_type": "execute_result",
     "data": {
      "text/plain": [
       "  FIRST_NAME LAST_NAME        EMAIL\n",
       "0        Jef       Jon  jef@com.com\n",
       "1        Jon       Car  jon@com.com\n",
       "2        Car       Jef  car@com.com"
      ],
      "text/html": "<div>\n<style scoped>\n    .dataframe tbody tr th:only-of-type {\n        vertical-align: middle;\n    }\n\n    .dataframe tbody tr th {\n        vertical-align: top;\n    }\n\n    .dataframe thead th {\n        text-align: right;\n    }\n</style>\n<table border=\"1\" class=\"dataframe\">\n  <thead>\n    <tr style=\"text-align: right;\">\n      <th></th>\n      <th>FIRST_NAME</th>\n      <th>LAST_NAME</th>\n      <th>EMAIL</th>\n    </tr>\n  </thead>\n  <tbody>\n    <tr>\n      <th>0</th>\n      <td>Jef</td>\n      <td>Jon</td>\n      <td>jef@com.com</td>\n    </tr>\n    <tr>\n      <th>1</th>\n      <td>Jon</td>\n      <td>Car</td>\n      <td>jon@com.com</td>\n    </tr>\n    <tr>\n      <th>2</th>\n      <td>Car</td>\n      <td>Jef</td>\n      <td>car@com.com</td>\n    </tr>\n  </tbody>\n</table>\n</div>"
     },
     "metadata": {},
     "execution_count": 324
    }
   ],
   "source": [
    "df.columns = df.columns.str.replace(' ', '-')\n",
    "df"
   ]
  },
  {
   "cell_type": "code",
   "execution_count": 325,
   "metadata": {},
   "outputs": [
    {
     "output_type": "execute_result",
     "data": {
      "text/plain": [
       "  first_name last_name        email\n",
       "0        Jef       Jon  jef@com.com\n",
       "1        Jon       Car  jon@com.com\n",
       "2        Car       Jef  car@com.com"
      ],
      "text/html": "<div>\n<style scoped>\n    .dataframe tbody tr th:only-of-type {\n        vertical-align: middle;\n    }\n\n    .dataframe tbody tr th {\n        vertical-align: top;\n    }\n\n    .dataframe thead th {\n        text-align: right;\n    }\n</style>\n<table border=\"1\" class=\"dataframe\">\n  <thead>\n    <tr style=\"text-align: right;\">\n      <th></th>\n      <th>first_name</th>\n      <th>last_name</th>\n      <th>email</th>\n    </tr>\n  </thead>\n  <tbody>\n    <tr>\n      <th>0</th>\n      <td>Jef</td>\n      <td>Jon</td>\n      <td>jef@com.com</td>\n    </tr>\n    <tr>\n      <th>1</th>\n      <td>Jon</td>\n      <td>Car</td>\n      <td>jon@com.com</td>\n    </tr>\n    <tr>\n      <th>2</th>\n      <td>Car</td>\n      <td>Jef</td>\n      <td>car@com.com</td>\n    </tr>\n  </tbody>\n</table>\n</div>"
     },
     "metadata": {},
     "execution_count": 325
    }
   ],
   "source": [
    "df.columns = [up.lower() for up in df.columns]\n",
    "df"
   ]
  },
  {
   "cell_type": "code",
   "execution_count": 326,
   "metadata": {},
   "outputs": [
    {
     "output_type": "execute_result",
     "data": {
      "text/plain": [
       "  first_name last_name        email\n",
       "0        Jef       Jon  jef@com.com\n",
       "1        Jon       Car  jon@com.com\n",
       "2        Car       Jef  car@com.com"
      ],
      "text/html": "<div>\n<style scoped>\n    .dataframe tbody tr th:only-of-type {\n        vertical-align: middle;\n    }\n\n    .dataframe tbody tr th {\n        vertical-align: top;\n    }\n\n    .dataframe thead th {\n        text-align: right;\n    }\n</style>\n<table border=\"1\" class=\"dataframe\">\n  <thead>\n    <tr style=\"text-align: right;\">\n      <th></th>\n      <th>first_name</th>\n      <th>last_name</th>\n      <th>email</th>\n    </tr>\n  </thead>\n  <tbody>\n    <tr>\n      <th>0</th>\n      <td>Jef</td>\n      <td>Jon</td>\n      <td>jef@com.com</td>\n    </tr>\n    <tr>\n      <th>1</th>\n      <td>Jon</td>\n      <td>Car</td>\n      <td>jon@com.com</td>\n    </tr>\n    <tr>\n      <th>2</th>\n      <td>Car</td>\n      <td>Jef</td>\n      <td>car@com.com</td>\n    </tr>\n  </tbody>\n</table>\n</div>"
     },
     "metadata": {},
     "execution_count": 326
    }
   ],
   "source": [
    "df.rename(columns={'first-name':'firstname', 'last-name':'lastname'})#,inplace=True"
   ]
  },
  {
   "cell_type": "code",
   "execution_count": 327,
   "metadata": {},
   "outputs": [
    {
     "output_type": "execute_result",
     "data": {
      "text/plain": [
       "  first_name last_name           email\n",
       "0        Jef       Jon     jef@com.com\n",
       "1        Jon       Car     jon@com.com\n",
       "2        Jef       Car  jefcar@com.com"
      ],
      "text/html": "<div>\n<style scoped>\n    .dataframe tbody tr th:only-of-type {\n        vertical-align: middle;\n    }\n\n    .dataframe tbody tr th {\n        vertical-align: top;\n    }\n\n    .dataframe thead th {\n        text-align: right;\n    }\n</style>\n<table border=\"1\" class=\"dataframe\">\n  <thead>\n    <tr style=\"text-align: right;\">\n      <th></th>\n      <th>first_name</th>\n      <th>last_name</th>\n      <th>email</th>\n    </tr>\n  </thead>\n  <tbody>\n    <tr>\n      <th>0</th>\n      <td>Jef</td>\n      <td>Jon</td>\n      <td>jef@com.com</td>\n    </tr>\n    <tr>\n      <th>1</th>\n      <td>Jon</td>\n      <td>Car</td>\n      <td>jon@com.com</td>\n    </tr>\n    <tr>\n      <th>2</th>\n      <td>Jef</td>\n      <td>Car</td>\n      <td>jefcar@com.com</td>\n    </tr>\n  </tbody>\n</table>\n</div>"
     },
     "metadata": {},
     "execution_count": 327
    }
   ],
   "source": [
    "df.loc[2] = ['Jef', 'Car', 'jefcar@com.com']\n",
    "df"
   ]
  },
  {
   "cell_type": "code",
   "execution_count": 328,
   "metadata": {},
   "outputs": [
    {
     "output_type": "execute_result",
     "data": {
      "text/plain": [
       "  first_name last_name           email\n",
       "0        Jef       Jon     jef@com.com\n",
       "1        Jon       Car     jon@com.com\n",
       "2        Jef       Mel  jefmel@com.com"
      ],
      "text/html": "<div>\n<style scoped>\n    .dataframe tbody tr th:only-of-type {\n        vertical-align: middle;\n    }\n\n    .dataframe tbody tr th {\n        vertical-align: top;\n    }\n\n    .dataframe thead th {\n        text-align: right;\n    }\n</style>\n<table border=\"1\" class=\"dataframe\">\n  <thead>\n    <tr style=\"text-align: right;\">\n      <th></th>\n      <th>first_name</th>\n      <th>last_name</th>\n      <th>email</th>\n    </tr>\n  </thead>\n  <tbody>\n    <tr>\n      <th>0</th>\n      <td>Jef</td>\n      <td>Jon</td>\n      <td>jef@com.com</td>\n    </tr>\n    <tr>\n      <th>1</th>\n      <td>Jon</td>\n      <td>Car</td>\n      <td>jon@com.com</td>\n    </tr>\n    <tr>\n      <th>2</th>\n      <td>Jef</td>\n      <td>Mel</td>\n      <td>jefmel@com.com</td>\n    </tr>\n  </tbody>\n</table>\n</div>"
     },
     "metadata": {},
     "execution_count": 328
    }
   ],
   "source": [
    "df.loc[2, ['last_name', 'email']] = ['Mel', 'jefmel@com.com']\n",
    "df"
   ]
  },
  {
   "cell_type": "code",
   "execution_count": 329,
   "metadata": {},
   "outputs": [
    {
     "output_type": "execute_result",
     "data": {
      "text/plain": [
       "  first_name last_name           email\n",
       "0        Jef       Jon     jef@com.com\n",
       "1        Jon       Car     jon@com.com\n",
       "2        Jef       Car  jefmel@com.com"
      ],
      "text/html": "<div>\n<style scoped>\n    .dataframe tbody tr th:only-of-type {\n        vertical-align: middle;\n    }\n\n    .dataframe tbody tr th {\n        vertical-align: top;\n    }\n\n    .dataframe thead th {\n        text-align: right;\n    }\n</style>\n<table border=\"1\" class=\"dataframe\">\n  <thead>\n    <tr style=\"text-align: right;\">\n      <th></th>\n      <th>first_name</th>\n      <th>last_name</th>\n      <th>email</th>\n    </tr>\n  </thead>\n  <tbody>\n    <tr>\n      <th>0</th>\n      <td>Jef</td>\n      <td>Jon</td>\n      <td>jef@com.com</td>\n    </tr>\n    <tr>\n      <th>1</th>\n      <td>Jon</td>\n      <td>Car</td>\n      <td>jon@com.com</td>\n    </tr>\n    <tr>\n      <th>2</th>\n      <td>Jef</td>\n      <td>Car</td>\n      <td>jefmel@com.com</td>\n    </tr>\n  </tbody>\n</table>\n</div>"
     },
     "metadata": {},
     "execution_count": 329
    }
   ],
   "source": [
    "df.loc[2, 'last_name'] = 'Car'\n",
    "df"
   ]
  },
  {
   "cell_type": "code",
   "execution_count": 330,
   "metadata": {},
   "outputs": [
    {
     "output_type": "execute_result",
     "data": {
      "text/plain": [
       "  first_name last_name           email\n",
       "0        Jef       Jon     jef@com.com\n",
       "1        Jon       Car     jon@com.com\n",
       "2        Jef       Mel  jefmel@com.com"
      ],
      "text/html": "<div>\n<style scoped>\n    .dataframe tbody tr th:only-of-type {\n        vertical-align: middle;\n    }\n\n    .dataframe tbody tr th {\n        vertical-align: top;\n    }\n\n    .dataframe thead th {\n        text-align: right;\n    }\n</style>\n<table border=\"1\" class=\"dataframe\">\n  <thead>\n    <tr style=\"text-align: right;\">\n      <th></th>\n      <th>first_name</th>\n      <th>last_name</th>\n      <th>email</th>\n    </tr>\n  </thead>\n  <tbody>\n    <tr>\n      <th>0</th>\n      <td>Jef</td>\n      <td>Jon</td>\n      <td>jef@com.com</td>\n    </tr>\n    <tr>\n      <th>1</th>\n      <td>Jon</td>\n      <td>Car</td>\n      <td>jon@com.com</td>\n    </tr>\n    <tr>\n      <th>2</th>\n      <td>Jef</td>\n      <td>Mel</td>\n      <td>jefmel@com.com</td>\n    </tr>\n  </tbody>\n</table>\n</div>"
     },
     "metadata": {},
     "execution_count": 330
    }
   ],
   "source": [
    "df.at[2, 'last_name'] = 'Mel'\n",
    "df"
   ]
  },
  {
   "cell_type": "code",
   "execution_count": 331,
   "metadata": {},
   "outputs": [
    {
     "output_type": "execute_result",
     "data": {
      "text/plain": [
       "0       jef@com.com\n",
       "1       jon@com.com\n",
       "2    jefmel@com.com\n",
       "Name: email, dtype: object"
      ]
     },
     "metadata": {},
     "execution_count": 331
    }
   ],
   "source": [
    "df['email'].str.lower()"
   ]
  },
  {
   "cell_type": "code",
   "execution_count": 332,
   "metadata": {},
   "outputs": [
    {
     "output_type": "execute_result",
     "data": {
      "text/plain": [
       "  first_name last_name           email\n",
       "0        Jef       Jon     jef@com.com\n",
       "1        Jon       Car     jon@com.com\n",
       "2        Jef       Mel  jefmel@com.com"
      ],
      "text/html": "<div>\n<style scoped>\n    .dataframe tbody tr th:only-of-type {\n        vertical-align: middle;\n    }\n\n    .dataframe tbody tr th {\n        vertical-align: top;\n    }\n\n    .dataframe thead th {\n        text-align: right;\n    }\n</style>\n<table border=\"1\" class=\"dataframe\">\n  <thead>\n    <tr style=\"text-align: right;\">\n      <th></th>\n      <th>first_name</th>\n      <th>last_name</th>\n      <th>email</th>\n    </tr>\n  </thead>\n  <tbody>\n    <tr>\n      <th>0</th>\n      <td>Jef</td>\n      <td>Jon</td>\n      <td>jef@com.com</td>\n    </tr>\n    <tr>\n      <th>1</th>\n      <td>Jon</td>\n      <td>Car</td>\n      <td>jon@com.com</td>\n    </tr>\n    <tr>\n      <th>2</th>\n      <td>Jef</td>\n      <td>Mel</td>\n      <td>jefmel@com.com</td>\n    </tr>\n  </tbody>\n</table>\n</div>"
     },
     "metadata": {},
     "execution_count": 332
    }
   ],
   "source": [
    "df['email'] = df['email'].str.lower()\n",
    "df"
   ]
  },
  {
   "cell_type": "code",
   "execution_count": 333,
   "metadata": {},
   "outputs": [
    {
     "output_type": "execute_result",
     "data": {
      "text/plain": [
       "0    11\n",
       "1    11\n",
       "2    14\n",
       "Name: email, dtype: int64"
      ]
     },
     "metadata": {},
     "execution_count": 333
    }
   ],
   "source": [
    "df['email'].apply(len)"
   ]
  },
  {
   "cell_type": "code",
   "execution_count": 334,
   "metadata": {},
   "outputs": [],
   "source": [
    "def upper_case_email(email):\n",
    "    return email.upper()"
   ]
  },
  {
   "cell_type": "code",
   "execution_count": 335,
   "metadata": {},
   "outputs": [
    {
     "output_type": "execute_result",
     "data": {
      "text/plain": [
       "0       JEF@COM.COM\n",
       "1       JON@COM.COM\n",
       "2    JEFMEL@COM.COM\n",
       "Name: email, dtype: object"
      ]
     },
     "metadata": {},
     "execution_count": 335
    }
   ],
   "source": [
    "df['email'].apply(upper_case_email)"
   ]
  },
  {
   "cell_type": "code",
   "execution_count": 336,
   "metadata": {},
   "outputs": [
    {
     "output_type": "execute_result",
     "data": {
      "text/plain": [
       "  first_name last_name           email\n",
       "0        Jef       Jon     JEF@COM.COM\n",
       "1        Jon       Car     JON@COM.COM\n",
       "2        Jef       Mel  JEFMEL@COM.COM"
      ],
      "text/html": "<div>\n<style scoped>\n    .dataframe tbody tr th:only-of-type {\n        vertical-align: middle;\n    }\n\n    .dataframe tbody tr th {\n        vertical-align: top;\n    }\n\n    .dataframe thead th {\n        text-align: right;\n    }\n</style>\n<table border=\"1\" class=\"dataframe\">\n  <thead>\n    <tr style=\"text-align: right;\">\n      <th></th>\n      <th>first_name</th>\n      <th>last_name</th>\n      <th>email</th>\n    </tr>\n  </thead>\n  <tbody>\n    <tr>\n      <th>0</th>\n      <td>Jef</td>\n      <td>Jon</td>\n      <td>JEF@COM.COM</td>\n    </tr>\n    <tr>\n      <th>1</th>\n      <td>Jon</td>\n      <td>Car</td>\n      <td>JON@COM.COM</td>\n    </tr>\n    <tr>\n      <th>2</th>\n      <td>Jef</td>\n      <td>Mel</td>\n      <td>JEFMEL@COM.COM</td>\n    </tr>\n  </tbody>\n</table>\n</div>"
     },
     "metadata": {},
     "execution_count": 336
    }
   ],
   "source": [
    "df['email'] = df['email'].apply(upper_case_email)\n",
    "df"
   ]
  },
  {
   "cell_type": "code",
   "execution_count": 337,
   "metadata": {},
   "outputs": [
    {
     "output_type": "execute_result",
     "data": {
      "text/plain": [
       "  first_name last_name           email\n",
       "0        Jef       Jon     jef@com.com\n",
       "1        Jon       Car     jon@com.com\n",
       "2        Jef       Mel  jefmel@com.com"
      ],
      "text/html": "<div>\n<style scoped>\n    .dataframe tbody tr th:only-of-type {\n        vertical-align: middle;\n    }\n\n    .dataframe tbody tr th {\n        vertical-align: top;\n    }\n\n    .dataframe thead th {\n        text-align: right;\n    }\n</style>\n<table border=\"1\" class=\"dataframe\">\n  <thead>\n    <tr style=\"text-align: right;\">\n      <th></th>\n      <th>first_name</th>\n      <th>last_name</th>\n      <th>email</th>\n    </tr>\n  </thead>\n  <tbody>\n    <tr>\n      <th>0</th>\n      <td>Jef</td>\n      <td>Jon</td>\n      <td>jef@com.com</td>\n    </tr>\n    <tr>\n      <th>1</th>\n      <td>Jon</td>\n      <td>Car</td>\n      <td>jon@com.com</td>\n    </tr>\n    <tr>\n      <th>2</th>\n      <td>Jef</td>\n      <td>Mel</td>\n      <td>jefmel@com.com</td>\n    </tr>\n  </tbody>\n</table>\n</div>"
     },
     "metadata": {},
     "execution_count": 337
    }
   ],
   "source": [
    "df['email'] = df['email'].apply(lambda dc: dc.lower())\n",
    "df"
   ]
  },
  {
   "cell_type": "code",
   "execution_count": 338,
   "metadata": {},
   "outputs": [
    {
     "output_type": "execute_result",
     "data": {
      "text/plain": [
       "Index(['first_name', 'last_name', 'email'], dtype='object')"
      ]
     },
     "metadata": {},
     "execution_count": 338
    }
   ],
   "source": [
    "df.columns"
   ]
  },
  {
   "cell_type": "code",
   "execution_count": 339,
   "metadata": {},
   "outputs": [
    {
     "output_type": "execute_result",
     "data": {
      "text/plain": [
       "first_name    3\n",
       "last_name     3\n",
       "email         3\n",
       "dtype: int64"
      ]
     },
     "metadata": {},
     "execution_count": 339
    }
   ],
   "source": [
    "df.apply(len)#The amount members values in columns"
   ]
  },
  {
   "cell_type": "code",
   "execution_count": 340,
   "metadata": {},
   "outputs": [
    {
     "output_type": "execute_result",
     "data": {
      "text/plain": [
       "first_name            Jef\n",
       "last_name             Car\n",
       "email         jef@com.com\n",
       "dtype: object"
      ]
     },
     "metadata": {},
     "execution_count": 340
    }
   ],
   "source": [
    "df.apply(lambda x: x.min())"
   ]
  },
  {
   "cell_type": "code",
   "execution_count": 341,
   "metadata": {},
   "outputs": [
    {
     "output_type": "execute_result",
     "data": {
      "text/plain": [
       "   first_name  last_name  email\n",
       "0           3          3     11\n",
       "1           3          3     11\n",
       "2           3          3     14"
      ],
      "text/html": "<div>\n<style scoped>\n    .dataframe tbody tr th:only-of-type {\n        vertical-align: middle;\n    }\n\n    .dataframe tbody tr th {\n        vertical-align: top;\n    }\n\n    .dataframe thead th {\n        text-align: right;\n    }\n</style>\n<table border=\"1\" class=\"dataframe\">\n  <thead>\n    <tr style=\"text-align: right;\">\n      <th></th>\n      <th>first_name</th>\n      <th>last_name</th>\n      <th>email</th>\n    </tr>\n  </thead>\n  <tbody>\n    <tr>\n      <th>0</th>\n      <td>3</td>\n      <td>3</td>\n      <td>11</td>\n    </tr>\n    <tr>\n      <th>1</th>\n      <td>3</td>\n      <td>3</td>\n      <td>11</td>\n    </tr>\n    <tr>\n      <th>2</th>\n      <td>3</td>\n      <td>3</td>\n      <td>14</td>\n    </tr>\n  </tbody>\n</table>\n</div>"
     },
     "metadata": {},
     "execution_count": 341
    }
   ],
   "source": [
    "df.applymap(len)"
   ]
  },
  {
   "cell_type": "code",
   "execution_count": 342,
   "metadata": {},
   "outputs": [
    {
     "output_type": "execute_result",
     "data": {
      "text/plain": [
       "  first_name last_name           email\n",
       "0        jef       jon     jef@com.com\n",
       "1        jon       car     jon@com.com\n",
       "2        jef       mel  jefmel@com.com"
      ],
      "text/html": "<div>\n<style scoped>\n    .dataframe tbody tr th:only-of-type {\n        vertical-align: middle;\n    }\n\n    .dataframe tbody tr th {\n        vertical-align: top;\n    }\n\n    .dataframe thead th {\n        text-align: right;\n    }\n</style>\n<table border=\"1\" class=\"dataframe\">\n  <thead>\n    <tr style=\"text-align: right;\">\n      <th></th>\n      <th>first_name</th>\n      <th>last_name</th>\n      <th>email</th>\n    </tr>\n  </thead>\n  <tbody>\n    <tr>\n      <th>0</th>\n      <td>jef</td>\n      <td>jon</td>\n      <td>jef@com.com</td>\n    </tr>\n    <tr>\n      <th>1</th>\n      <td>jon</td>\n      <td>car</td>\n      <td>jon@com.com</td>\n    </tr>\n    <tr>\n      <th>2</th>\n      <td>jef</td>\n      <td>mel</td>\n      <td>jefmel@com.com</td>\n    </tr>\n  </tbody>\n</table>\n</div>"
     },
     "metadata": {},
     "execution_count": 342
    }
   ],
   "source": [
    "df.applymap(str.lower)"
   ]
  },
  {
   "cell_type": "code",
   "execution_count": 343,
   "metadata": {},
   "outputs": [
    {
     "output_type": "execute_result",
     "data": {
      "text/plain": [
       "  first_name last_name           email fullname\n",
       "0        Jef       Jon     jef@com.com  Jef Jon\n",
       "1        Jon       Car     jon@com.com  Jon Car\n",
       "2        Jef       Mel  jefmel@com.com  Jef Mel"
      ],
      "text/html": "<div>\n<style scoped>\n    .dataframe tbody tr th:only-of-type {\n        vertical-align: middle;\n    }\n\n    .dataframe tbody tr th {\n        vertical-align: top;\n    }\n\n    .dataframe thead th {\n        text-align: right;\n    }\n</style>\n<table border=\"1\" class=\"dataframe\">\n  <thead>\n    <tr style=\"text-align: right;\">\n      <th></th>\n      <th>first_name</th>\n      <th>last_name</th>\n      <th>email</th>\n      <th>fullname</th>\n    </tr>\n  </thead>\n  <tbody>\n    <tr>\n      <th>0</th>\n      <td>Jef</td>\n      <td>Jon</td>\n      <td>jef@com.com</td>\n      <td>Jef Jon</td>\n    </tr>\n    <tr>\n      <th>1</th>\n      <td>Jon</td>\n      <td>Car</td>\n      <td>jon@com.com</td>\n      <td>Jon Car</td>\n    </tr>\n    <tr>\n      <th>2</th>\n      <td>Jef</td>\n      <td>Mel</td>\n      <td>jefmel@com.com</td>\n      <td>Jef Mel</td>\n    </tr>\n  </tbody>\n</table>\n</div>"
     },
     "metadata": {},
     "execution_count": 343
    }
   ],
   "source": [
    "df['fullname'] = df['first_name'] + ' ' + df['last_name']\n",
    "df"
   ]
  },
  {
   "cell_type": "code",
   "execution_count": 344,
   "metadata": {},
   "outputs": [],
   "source": [
    "df.drop(columns=['first_name', 'last_name'], inplace=True)"
   ]
  },
  {
   "cell_type": "code",
   "execution_count": 345,
   "metadata": {},
   "outputs": [
    {
     "output_type": "execute_result",
     "data": {
      "text/plain": [
       "     0    1\n",
       "0  Jef  Jon\n",
       "1  Jon  Car\n",
       "2  Jef  Mel"
      ],
      "text/html": "<div>\n<style scoped>\n    .dataframe tbody tr th:only-of-type {\n        vertical-align: middle;\n    }\n\n    .dataframe tbody tr th {\n        vertical-align: top;\n    }\n\n    .dataframe thead th {\n        text-align: right;\n    }\n</style>\n<table border=\"1\" class=\"dataframe\">\n  <thead>\n    <tr style=\"text-align: right;\">\n      <th></th>\n      <th>0</th>\n      <th>1</th>\n    </tr>\n  </thead>\n  <tbody>\n    <tr>\n      <th>0</th>\n      <td>Jef</td>\n      <td>Jon</td>\n    </tr>\n    <tr>\n      <th>1</th>\n      <td>Jon</td>\n      <td>Car</td>\n    </tr>\n    <tr>\n      <th>2</th>\n      <td>Jef</td>\n      <td>Mel</td>\n    </tr>\n  </tbody>\n</table>\n</div>"
     },
     "metadata": {},
     "execution_count": 345
    }
   ],
   "source": [
    "df['fullname'].str.split(' ', expand=True)"
   ]
  },
  {
   "cell_type": "code",
   "execution_count": 346,
   "metadata": {},
   "outputs": [],
   "source": [
    "df[['firstname', 'lastname']] = df['fullname'].str.split(' ', expand=True)"
   ]
  },
  {
   "cell_type": "code",
   "execution_count": 347,
   "metadata": {},
   "outputs": [
    {
     "output_type": "execute_result",
     "data": {
      "text/plain": [
       "            email fullname firstname lastname\n",
       "0     jef@com.com  Jef Jon       Jef      Jon\n",
       "1     jon@com.com  Jon Car       Jon      Car\n",
       "2  jefmel@com.com  Jef Mel       Jef      Mel"
      ],
      "text/html": "<div>\n<style scoped>\n    .dataframe tbody tr th:only-of-type {\n        vertical-align: middle;\n    }\n\n    .dataframe tbody tr th {\n        vertical-align: top;\n    }\n\n    .dataframe thead th {\n        text-align: right;\n    }\n</style>\n<table border=\"1\" class=\"dataframe\">\n  <thead>\n    <tr style=\"text-align: right;\">\n      <th></th>\n      <th>email</th>\n      <th>fullname</th>\n      <th>firstname</th>\n      <th>lastname</th>\n    </tr>\n  </thead>\n  <tbody>\n    <tr>\n      <th>0</th>\n      <td>jef@com.com</td>\n      <td>Jef Jon</td>\n      <td>Jef</td>\n      <td>Jon</td>\n    </tr>\n    <tr>\n      <th>1</th>\n      <td>jon@com.com</td>\n      <td>Jon Car</td>\n      <td>Jon</td>\n      <td>Car</td>\n    </tr>\n    <tr>\n      <th>2</th>\n      <td>jefmel@com.com</td>\n      <td>Jef Mel</td>\n      <td>Jef</td>\n      <td>Mel</td>\n    </tr>\n  </tbody>\n</table>\n</div>"
     },
     "metadata": {},
     "execution_count": 347
    }
   ],
   "source": [
    "df"
   ]
  },
  {
   "cell_type": "code",
   "execution_count": 348,
   "metadata": {},
   "outputs": [
    {
     "output_type": "execute_result",
     "data": {
      "text/plain": [
       "            email firstname lastname\n",
       "0     jef@com.com       Jef      Jon\n",
       "1     jon@com.com       Jon      Car\n",
       "2  jefmel@com.com       Jef      Mel"
      ],
      "text/html": "<div>\n<style scoped>\n    .dataframe tbody tr th:only-of-type {\n        vertical-align: middle;\n    }\n\n    .dataframe tbody tr th {\n        vertical-align: top;\n    }\n\n    .dataframe thead th {\n        text-align: right;\n    }\n</style>\n<table border=\"1\" class=\"dataframe\">\n  <thead>\n    <tr style=\"text-align: right;\">\n      <th></th>\n      <th>email</th>\n      <th>firstname</th>\n      <th>lastname</th>\n    </tr>\n  </thead>\n  <tbody>\n    <tr>\n      <th>0</th>\n      <td>jef@com.com</td>\n      <td>Jef</td>\n      <td>Jon</td>\n    </tr>\n    <tr>\n      <th>1</th>\n      <td>jon@com.com</td>\n      <td>Jon</td>\n      <td>Car</td>\n    </tr>\n    <tr>\n      <th>2</th>\n      <td>jefmel@com.com</td>\n      <td>Jef</td>\n      <td>Mel</td>\n    </tr>\n  </tbody>\n</table>\n</div>"
     },
     "metadata": {},
     "execution_count": 348
    }
   ],
   "source": [
    "df.drop(columns=['fullname'])"
   ]
  },
  {
   "cell_type": "code",
   "execution_count": 349,
   "metadata": {},
   "outputs": [
    {
     "output_type": "execute_result",
     "data": {
      "text/plain": [
       "            email fullname firstname lastname\n",
       "0     jef@com.com  Jef Jon       Jef      Jon\n",
       "1     jon@com.com  Jon Car       Jon      Car\n",
       "2  jefmel@com.com  Jef Mel       Jef      Mel\n",
       "3             NaN      NaN       Ana      NaN"
      ],
      "text/html": "<div>\n<style scoped>\n    .dataframe tbody tr th:only-of-type {\n        vertical-align: middle;\n    }\n\n    .dataframe tbody tr th {\n        vertical-align: top;\n    }\n\n    .dataframe thead th {\n        text-align: right;\n    }\n</style>\n<table border=\"1\" class=\"dataframe\">\n  <thead>\n    <tr style=\"text-align: right;\">\n      <th></th>\n      <th>email</th>\n      <th>fullname</th>\n      <th>firstname</th>\n      <th>lastname</th>\n    </tr>\n  </thead>\n  <tbody>\n    <tr>\n      <th>0</th>\n      <td>jef@com.com</td>\n      <td>Jef Jon</td>\n      <td>Jef</td>\n      <td>Jon</td>\n    </tr>\n    <tr>\n      <th>1</th>\n      <td>jon@com.com</td>\n      <td>Jon Car</td>\n      <td>Jon</td>\n      <td>Car</td>\n    </tr>\n    <tr>\n      <th>2</th>\n      <td>jefmel@com.com</td>\n      <td>Jef Mel</td>\n      <td>Jef</td>\n      <td>Mel</td>\n    </tr>\n    <tr>\n      <th>3</th>\n      <td>NaN</td>\n      <td>NaN</td>\n      <td>Ana</td>\n      <td>NaN</td>\n    </tr>\n  </tbody>\n</table>\n</div>"
     },
     "metadata": {},
     "execution_count": 349
    }
   ],
   "source": [
    "df.append({'firstname':'Ana'}, ignore_index=True)"
   ]
  },
  {
   "cell_type": "code",
   "execution_count": 350,
   "metadata": {},
   "outputs": [],
   "source": [
    "people = {\n",
    "    \"firstname\": [\"Jeferson\", \"Jonatas\"],\n",
    "    \"lastname\": [\"Melo\", \"Carneiro\"],\n",
    "    \"email\": [\"jeferson@com.com\", \"jonatas@com.com\"]\n",
    "}\n",
    "df_2 = pd.DataFrame(people)"
   ]
  },
  {
   "cell_type": "code",
   "execution_count": 351,
   "metadata": {},
   "outputs": [
    {
     "output_type": "execute_result",
     "data": {
      "text/plain": [
       "  firstname  lastname             email\n",
       "0  Jeferson      Melo  jeferson@com.com\n",
       "1   Jonatas  Carneiro   jonatas@com.com"
      ],
      "text/html": "<div>\n<style scoped>\n    .dataframe tbody tr th:only-of-type {\n        vertical-align: middle;\n    }\n\n    .dataframe tbody tr th {\n        vertical-align: top;\n    }\n\n    .dataframe thead th {\n        text-align: right;\n    }\n</style>\n<table border=\"1\" class=\"dataframe\">\n  <thead>\n    <tr style=\"text-align: right;\">\n      <th></th>\n      <th>firstname</th>\n      <th>lastname</th>\n      <th>email</th>\n    </tr>\n  </thead>\n  <tbody>\n    <tr>\n      <th>0</th>\n      <td>Jeferson</td>\n      <td>Melo</td>\n      <td>jeferson@com.com</td>\n    </tr>\n    <tr>\n      <th>1</th>\n      <td>Jonatas</td>\n      <td>Carneiro</td>\n      <td>jonatas@com.com</td>\n    </tr>\n  </tbody>\n</table>\n</div>"
     },
     "metadata": {},
     "execution_count": 351
    }
   ],
   "source": [
    "df_2"
   ]
  },
  {
   "cell_type": "code",
   "execution_count": 352,
   "metadata": {},
   "outputs": [
    {
     "output_type": "execute_result",
     "data": {
      "text/plain": [
       "              email fullname firstname  lastname\n",
       "0       jef@com.com  Jef Jon       Jef       Jon\n",
       "1       jon@com.com  Jon Car       Jon       Car\n",
       "2    jefmel@com.com  Jef Mel       Jef       Mel\n",
       "0  jeferson@com.com      NaN  Jeferson      Melo\n",
       "1   jonatas@com.com      NaN   Jonatas  Carneiro"
      ],
      "text/html": "<div>\n<style scoped>\n    .dataframe tbody tr th:only-of-type {\n        vertical-align: middle;\n    }\n\n    .dataframe tbody tr th {\n        vertical-align: top;\n    }\n\n    .dataframe thead th {\n        text-align: right;\n    }\n</style>\n<table border=\"1\" class=\"dataframe\">\n  <thead>\n    <tr style=\"text-align: right;\">\n      <th></th>\n      <th>email</th>\n      <th>fullname</th>\n      <th>firstname</th>\n      <th>lastname</th>\n    </tr>\n  </thead>\n  <tbody>\n    <tr>\n      <th>0</th>\n      <td>jef@com.com</td>\n      <td>Jef Jon</td>\n      <td>Jef</td>\n      <td>Jon</td>\n    </tr>\n    <tr>\n      <th>1</th>\n      <td>jon@com.com</td>\n      <td>Jon Car</td>\n      <td>Jon</td>\n      <td>Car</td>\n    </tr>\n    <tr>\n      <th>2</th>\n      <td>jefmel@com.com</td>\n      <td>Jef Mel</td>\n      <td>Jef</td>\n      <td>Mel</td>\n    </tr>\n    <tr>\n      <th>0</th>\n      <td>jeferson@com.com</td>\n      <td>NaN</td>\n      <td>Jeferson</td>\n      <td>Melo</td>\n    </tr>\n    <tr>\n      <th>1</th>\n      <td>jonatas@com.com</td>\n      <td>NaN</td>\n      <td>Jonatas</td>\n      <td>Carneiro</td>\n    </tr>\n  </tbody>\n</table>\n</div>"
     },
     "metadata": {},
     "execution_count": 352
    }
   ],
   "source": [
    "df.append(df_2)"
   ]
  },
  {
   "cell_type": "code",
   "execution_count": 353,
   "metadata": {},
   "outputs": [
    {
     "output_type": "execute_result",
     "data": {
      "text/plain": [
       "              email fullname firstname  lastname\n",
       "0       jef@com.com  Jef Jon       Jef       Jon\n",
       "1       jon@com.com  Jon Car       Jon       Car\n",
       "2    jefmel@com.com  Jef Mel       Jef       Mel\n",
       "3  jeferson@com.com      NaN  Jeferson      Melo\n",
       "4   jonatas@com.com      NaN   Jonatas  Carneiro"
      ],
      "text/html": "<div>\n<style scoped>\n    .dataframe tbody tr th:only-of-type {\n        vertical-align: middle;\n    }\n\n    .dataframe tbody tr th {\n        vertical-align: top;\n    }\n\n    .dataframe thead th {\n        text-align: right;\n    }\n</style>\n<table border=\"1\" class=\"dataframe\">\n  <thead>\n    <tr style=\"text-align: right;\">\n      <th></th>\n      <th>email</th>\n      <th>fullname</th>\n      <th>firstname</th>\n      <th>lastname</th>\n    </tr>\n  </thead>\n  <tbody>\n    <tr>\n      <th>0</th>\n      <td>jef@com.com</td>\n      <td>Jef Jon</td>\n      <td>Jef</td>\n      <td>Jon</td>\n    </tr>\n    <tr>\n      <th>1</th>\n      <td>jon@com.com</td>\n      <td>Jon Car</td>\n      <td>Jon</td>\n      <td>Car</td>\n    </tr>\n    <tr>\n      <th>2</th>\n      <td>jefmel@com.com</td>\n      <td>Jef Mel</td>\n      <td>Jef</td>\n      <td>Mel</td>\n    </tr>\n    <tr>\n      <th>3</th>\n      <td>jeferson@com.com</td>\n      <td>NaN</td>\n      <td>Jeferson</td>\n      <td>Melo</td>\n    </tr>\n    <tr>\n      <th>4</th>\n      <td>jonatas@com.com</td>\n      <td>NaN</td>\n      <td>Jonatas</td>\n      <td>Carneiro</td>\n    </tr>\n  </tbody>\n</table>\n</div>"
     },
     "metadata": {},
     "execution_count": 353
    }
   ],
   "source": [
    "df.append(df_2, ignore_index=True, sort=False)"
   ]
  },
  {
   "source": [
    "#filter_lastname = df['lastname']=='Car'\n",
    "#df.drop(index=df[filter_lastname].index)"
   ],
   "cell_type": "code",
   "metadata": {},
   "execution_count": 355,
   "outputs": []
  },
  {
   "cell_type": "code",
   "execution_count": 356,
   "metadata": {},
   "outputs": [
    {
     "output_type": "execute_result",
     "data": {
      "text/plain": [
       "            email fullname firstname lastname\n",
       "0     jef@com.com  Jef Jon       Jef      Jon\n",
       "2  jefmel@com.com  Jef Mel       Jef      Mel\n",
       "1     jon@com.com  Jon Car       Jon      Car"
      ],
      "text/html": "<div>\n<style scoped>\n    .dataframe tbody tr th:only-of-type {\n        vertical-align: middle;\n    }\n\n    .dataframe tbody tr th {\n        vertical-align: top;\n    }\n\n    .dataframe thead th {\n        text-align: right;\n    }\n</style>\n<table border=\"1\" class=\"dataframe\">\n  <thead>\n    <tr style=\"text-align: right;\">\n      <th></th>\n      <th>email</th>\n      <th>fullname</th>\n      <th>firstname</th>\n      <th>lastname</th>\n    </tr>\n  </thead>\n  <tbody>\n    <tr>\n      <th>0</th>\n      <td>jef@com.com</td>\n      <td>Jef Jon</td>\n      <td>Jef</td>\n      <td>Jon</td>\n    </tr>\n    <tr>\n      <th>2</th>\n      <td>jefmel@com.com</td>\n      <td>Jef Mel</td>\n      <td>Jef</td>\n      <td>Mel</td>\n    </tr>\n    <tr>\n      <th>1</th>\n      <td>jon@com.com</td>\n      <td>Jon Car</td>\n      <td>Jon</td>\n      <td>Car</td>\n    </tr>\n  </tbody>\n</table>\n</div>"
     },
     "metadata": {},
     "execution_count": 356
    }
   ],
   "source": [
    "df.sort_values(by='firstname')"
   ]
  },
  {
   "cell_type": "code",
   "execution_count": 360,
   "metadata": {},
   "outputs": [
    {
     "output_type": "execute_result",
     "data": {
      "text/plain": [
       "            email fullname firstname lastname\n",
       "1     jon@com.com  Jon Car       Jon      Car\n",
       "0     jef@com.com  Jef Jon       Jef      Jon\n",
       "2  jefmel@com.com  Jef Mel       Jef      Mel"
      ],
      "text/html": "<div>\n<style scoped>\n    .dataframe tbody tr th:only-of-type {\n        vertical-align: middle;\n    }\n\n    .dataframe tbody tr th {\n        vertical-align: top;\n    }\n\n    .dataframe thead th {\n        text-align: right;\n    }\n</style>\n<table border=\"1\" class=\"dataframe\">\n  <thead>\n    <tr style=\"text-align: right;\">\n      <th></th>\n      <th>email</th>\n      <th>fullname</th>\n      <th>firstname</th>\n      <th>lastname</th>\n    </tr>\n  </thead>\n  <tbody>\n    <tr>\n      <th>1</th>\n      <td>jon@com.com</td>\n      <td>Jon Car</td>\n      <td>Jon</td>\n      <td>Car</td>\n    </tr>\n    <tr>\n      <th>0</th>\n      <td>jef@com.com</td>\n      <td>Jef Jon</td>\n      <td>Jef</td>\n      <td>Jon</td>\n    </tr>\n    <tr>\n      <th>2</th>\n      <td>jefmel@com.com</td>\n      <td>Jef Mel</td>\n      <td>Jef</td>\n      <td>Mel</td>\n    </tr>\n  </tbody>\n</table>\n</div>"
     },
     "metadata": {},
     "execution_count": 360
    }
   ],
   "source": [
    "df.sort_values(by='firstname', ascending=False)"
   ]
  },
  {
   "cell_type": "code",
   "execution_count": 361,
   "metadata": {},
   "outputs": [
    {
     "output_type": "execute_result",
     "data": {
      "text/plain": [
       "            email fullname firstname lastname\n",
       "1     jon@com.com  Jon Car       Jon      Car\n",
       "2  jefmel@com.com  Jef Mel       Jef      Mel\n",
       "0     jef@com.com  Jef Jon       Jef      Jon"
      ],
      "text/html": "<div>\n<style scoped>\n    .dataframe tbody tr th:only-of-type {\n        vertical-align: middle;\n    }\n\n    .dataframe tbody tr th {\n        vertical-align: top;\n    }\n\n    .dataframe thead th {\n        text-align: right;\n    }\n</style>\n<table border=\"1\" class=\"dataframe\">\n  <thead>\n    <tr style=\"text-align: right;\">\n      <th></th>\n      <th>email</th>\n      <th>fullname</th>\n      <th>firstname</th>\n      <th>lastname</th>\n    </tr>\n  </thead>\n  <tbody>\n    <tr>\n      <th>1</th>\n      <td>jon@com.com</td>\n      <td>Jon Car</td>\n      <td>Jon</td>\n      <td>Car</td>\n    </tr>\n    <tr>\n      <th>2</th>\n      <td>jefmel@com.com</td>\n      <td>Jef Mel</td>\n      <td>Jef</td>\n      <td>Mel</td>\n    </tr>\n    <tr>\n      <th>0</th>\n      <td>jef@com.com</td>\n      <td>Jef Jon</td>\n      <td>Jef</td>\n      <td>Jon</td>\n    </tr>\n  </tbody>\n</table>\n</div>"
     },
     "metadata": {},
     "execution_count": 361
    }
   ],
   "source": [
    "df.sort_values(by=['firstname', 'lastname'], ascending=False)"
   ]
  },
  {
   "cell_type": "code",
   "execution_count": 368,
   "metadata": {},
   "outputs": [
    {
     "output_type": "execute_result",
     "data": {
      "text/plain": [
       "            email fullname firstname lastname\n",
       "1     jon@com.com  Jon Car       Jon      Car\n",
       "0     jef@com.com  Jef Jon       Jef      Jon\n",
       "2  jefmel@com.com  Jef Mel       Jef      Mel"
      ],
      "text/html": "<div>\n<style scoped>\n    .dataframe tbody tr th:only-of-type {\n        vertical-align: middle;\n    }\n\n    .dataframe tbody tr th {\n        vertical-align: top;\n    }\n\n    .dataframe thead th {\n        text-align: right;\n    }\n</style>\n<table border=\"1\" class=\"dataframe\">\n  <thead>\n    <tr style=\"text-align: right;\">\n      <th></th>\n      <th>email</th>\n      <th>fullname</th>\n      <th>firstname</th>\n      <th>lastname</th>\n    </tr>\n  </thead>\n  <tbody>\n    <tr>\n      <th>1</th>\n      <td>jon@com.com</td>\n      <td>Jon Car</td>\n      <td>Jon</td>\n      <td>Car</td>\n    </tr>\n    <tr>\n      <th>0</th>\n      <td>jef@com.com</td>\n      <td>Jef Jon</td>\n      <td>Jef</td>\n      <td>Jon</td>\n    </tr>\n    <tr>\n      <th>2</th>\n      <td>jefmel@com.com</td>\n      <td>Jef Mel</td>\n      <td>Jef</td>\n      <td>Mel</td>\n    </tr>\n  </tbody>\n</table>\n</div>"
     },
     "metadata": {},
     "execution_count": 368
    }
   ],
   "source": [
    "df.sort_values(by=['firstname', 'lastname'], ascending=[False, True], inplace=True)\n",
    "df"
   ]
  },
  {
   "cell_type": "code",
   "execution_count": 370,
   "metadata": {},
   "outputs": [
    {
     "output_type": "execute_result",
     "data": {
      "text/plain": [
       "            email fullname firstname lastname\n",
       "0     jef@com.com  Jef Jon       Jef      Jon\n",
       "1     jon@com.com  Jon Car       Jon      Car\n",
       "2  jefmel@com.com  Jef Mel       Jef      Mel"
      ],
      "text/html": "<div>\n<style scoped>\n    .dataframe tbody tr th:only-of-type {\n        vertical-align: middle;\n    }\n\n    .dataframe tbody tr th {\n        vertical-align: top;\n    }\n\n    .dataframe thead th {\n        text-align: right;\n    }\n</style>\n<table border=\"1\" class=\"dataframe\">\n  <thead>\n    <tr style=\"text-align: right;\">\n      <th></th>\n      <th>email</th>\n      <th>fullname</th>\n      <th>firstname</th>\n      <th>lastname</th>\n    </tr>\n  </thead>\n  <tbody>\n    <tr>\n      <th>0</th>\n      <td>jef@com.com</td>\n      <td>Jef Jon</td>\n      <td>Jef</td>\n      <td>Jon</td>\n    </tr>\n    <tr>\n      <th>1</th>\n      <td>jon@com.com</td>\n      <td>Jon Car</td>\n      <td>Jon</td>\n      <td>Car</td>\n    </tr>\n    <tr>\n      <th>2</th>\n      <td>jefmel@com.com</td>\n      <td>Jef Mel</td>\n      <td>Jef</td>\n      <td>Mel</td>\n    </tr>\n  </tbody>\n</table>\n</div>"
     },
     "metadata": {},
     "execution_count": 370
    }
   ],
   "source": [
    "df.sort_index()"
   ]
  },
  {
   "cell_type": "code",
   "execution_count": 371,
   "metadata": {},
   "outputs": [
    {
     "output_type": "execute_result",
     "data": {
      "text/plain": [
       "0    Jef Jon\n",
       "2    Jef Mel\n",
       "1    Jon Car\n",
       "Name: fullname, dtype: object"
      ]
     },
     "metadata": {},
     "execution_count": 371
    }
   ],
   "source": [
    "df['fullname'].sort_values()"
   ]
  }
 ],
 "metadata": {
  "kernelspec": {
   "name": "python3",
   "display_name": "Python 3.9.6 64-bit"
  },
  "language_info": {
   "codemirror_mode": {
    "name": "ipython",
    "version": 3
   },
   "file_extension": ".py",
   "mimetype": "text/x-python",
   "name": "python",
   "nbconvert_exporter": "python",
   "pygments_lexer": "ipython3",
   "version": "3.9.6"
  },
  "interpreter": {
   "hash": "04e4950520d2243eee94217051d101de697e1f5607781cfba42a143668f2fc67"
  }
 },
 "nbformat": 4,
 "nbformat_minor": 5
}